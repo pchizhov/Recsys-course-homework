{
 "cells": [
  {
   "cell_type": "markdown",
   "metadata": {},
   "source": [
    "Импортируем библиотеки"
   ]
  },
  {
   "cell_type": "code",
   "execution_count": 1,
   "metadata": {},
   "outputs": [],
   "source": [
    "import numpy as np\n",
    "import pandas as pd\n",
    "import xlearn as xl\n",
    "import scipy.stats as ss\n",
    "from tqdm.notebook import tqdm\n",
    "from scipy.special import logit\n",
    "from sklearn.metrics import log_loss"
   ]
  },
  {
   "cell_type": "markdown",
   "metadata": {},
   "source": [
    "Читаем и предобрабатываем данные и оставляем только последний день"
   ]
  },
  {
   "cell_type": "code",
   "execution_count": 2,
   "metadata": {},
   "outputs": [],
   "source": [
    "def preprocess_data(data):\n",
    "    '''\n",
    "    Препроцессинг на полном датасете\n",
    "    '''\n",
    "    # удаляем столбец impressions\n",
    "    data = data.drop(columns=['impressions'])\n",
    "    \n",
    "    # выделяем из даты часы и дни недели\n",
    "    dates = pd.to_datetime(data['date_time'])\n",
    "    data['hour'] = dates.dt.hour\n",
    "    data['weekday'] = dates.dt.dayofweek\n",
    "    \n",
    "    # категоризуем oaid_hash, иначе xlearn умирает от слишком большого числа фич\n",
    "    data['oaid_hash'] = data['oaid_hash'].astype('category').cat.codes\n",
    "    \n",
    "    return data\n",
    "\n",
    "# читаем данные\n",
    "data = pd.read_csv('../../data/data.csv')\n",
    "\n",
    "# препроцессинг на полных данных\n",
    "data = data.sort_values(by='date_time')\n",
    "data = preprocess_data(data)\n",
    "\n",
    "# считаем max_values для удобства генерации файлов\n",
    "max_values = dict()\n",
    "for col in data.columns:\n",
    "    max_values[col] = data[col].max()\n",
    "\n",
    "# оставляем последний день и только строки, где banner_id совпадает с banner_id0 и нет NaN\n",
    "last_day = '2021-10-02'\n",
    "splitting_mask = data['date_time'].str.startswith(last_day) & (data['banner_id'] == data['banner_id0']) & data['g1'].notna()\n",
    "last_day_data = data[splitting_mask]\n",
    "\n",
    "# удаляем полные данные за ненадобностью\n",
    "del data"
   ]
  },
  {
   "cell_type": "code",
   "execution_count": 3,
   "metadata": {},
   "outputs": [
    {
     "data": {
      "text/html": [
       "<div>\n",
       "<style scoped>\n",
       "    .dataframe tbody tr th:only-of-type {\n",
       "        vertical-align: middle;\n",
       "    }\n",
       "\n",
       "    .dataframe tbody tr th {\n",
       "        vertical-align: top;\n",
       "    }\n",
       "\n",
       "    .dataframe thead th {\n",
       "        text-align: right;\n",
       "    }\n",
       "</style>\n",
       "<table border=\"1\" class=\"dataframe\">\n",
       "  <thead>\n",
       "    <tr style=\"text-align: right;\">\n",
       "      <th></th>\n",
       "      <th>date_time</th>\n",
       "      <th>zone_id</th>\n",
       "      <th>banner_id</th>\n",
       "      <th>oaid_hash</th>\n",
       "      <th>campaign_clicks</th>\n",
       "      <th>os_id</th>\n",
       "      <th>country_id</th>\n",
       "      <th>banner_id0</th>\n",
       "      <th>rate0</th>\n",
       "      <th>g0</th>\n",
       "      <th>coeff_sum0</th>\n",
       "      <th>banner_id1</th>\n",
       "      <th>rate1</th>\n",
       "      <th>g1</th>\n",
       "      <th>coeff_sum1</th>\n",
       "      <th>clicks</th>\n",
       "      <th>hour</th>\n",
       "      <th>weekday</th>\n",
       "    </tr>\n",
       "  </thead>\n",
       "  <tbody>\n",
       "    <tr>\n",
       "      <th>14196412</th>\n",
       "      <td>2021-10-02 00:00:00.000000</td>\n",
       "      <td>14</td>\n",
       "      <td>1239</td>\n",
       "      <td>4676385</td>\n",
       "      <td>0</td>\n",
       "      <td>1</td>\n",
       "      <td>0</td>\n",
       "      <td>1239</td>\n",
       "      <td>0.046</td>\n",
       "      <td>0.011367</td>\n",
       "      <td>-6.356145</td>\n",
       "      <td>1234</td>\n",
       "      <td>0.04600</td>\n",
       "      <td>0.011368</td>\n",
       "      <td>-6.355855</td>\n",
       "      <td>0</td>\n",
       "      <td>0</td>\n",
       "      <td>5</td>\n",
       "    </tr>\n",
       "    <tr>\n",
       "      <th>8706638</th>\n",
       "      <td>2021-10-02 00:00:00.000000</td>\n",
       "      <td>525</td>\n",
       "      <td>174</td>\n",
       "      <td>1718633</td>\n",
       "      <td>0</td>\n",
       "      <td>3</td>\n",
       "      <td>0</td>\n",
       "      <td>174</td>\n",
       "      <td>0.001</td>\n",
       "      <td>0.063288</td>\n",
       "      <td>-3.107591</td>\n",
       "      <td>104</td>\n",
       "      <td>0.00100</td>\n",
       "      <td>0.041912</td>\n",
       "      <td>-3.091600</td>\n",
       "      <td>0</td>\n",
       "      <td>0</td>\n",
       "      <td>5</td>\n",
       "    </tr>\n",
       "    <tr>\n",
       "      <th>13000378</th>\n",
       "      <td>2021-10-02 00:00:00.000000</td>\n",
       "      <td>14</td>\n",
       "      <td>175</td>\n",
       "      <td>4672584</td>\n",
       "      <td>0</td>\n",
       "      <td>2</td>\n",
       "      <td>9</td>\n",
       "      <td>175</td>\n",
       "      <td>0.007</td>\n",
       "      <td>0.042959</td>\n",
       "      <td>-3.023266</td>\n",
       "      <td>232</td>\n",
       "      <td>0.00700</td>\n",
       "      <td>0.042071</td>\n",
       "      <td>-3.060019</td>\n",
       "      <td>0</td>\n",
       "      <td>0</td>\n",
       "      <td>5</td>\n",
       "    </tr>\n",
       "    <tr>\n",
       "      <th>9767447</th>\n",
       "      <td>2021-10-02 00:00:00.000000</td>\n",
       "      <td>0</td>\n",
       "      <td>76</td>\n",
       "      <td>2550468</td>\n",
       "      <td>0</td>\n",
       "      <td>1</td>\n",
       "      <td>3</td>\n",
       "      <td>76</td>\n",
       "      <td>0.008</td>\n",
       "      <td>0.051014</td>\n",
       "      <td>-4.665202</td>\n",
       "      <td>34</td>\n",
       "      <td>0.00873</td>\n",
       "      <td>0.014532</td>\n",
       "      <td>-4.988883</td>\n",
       "      <td>0</td>\n",
       "      <td>0</td>\n",
       "      <td>5</td>\n",
       "    </tr>\n",
       "    <tr>\n",
       "      <th>9054327</th>\n",
       "      <td>2021-10-02 00:00:00.000000</td>\n",
       "      <td>24</td>\n",
       "      <td>428</td>\n",
       "      <td>483280</td>\n",
       "      <td>0</td>\n",
       "      <td>1</td>\n",
       "      <td>10</td>\n",
       "      <td>428</td>\n",
       "      <td>0.001</td>\n",
       "      <td>0.157651</td>\n",
       "      <td>-3.672826</td>\n",
       "      <td>719</td>\n",
       "      <td>0.00100</td>\n",
       "      <td>0.167411</td>\n",
       "      <td>-3.676580</td>\n",
       "      <td>0</td>\n",
       "      <td>0</td>\n",
       "      <td>5</td>\n",
       "    </tr>\n",
       "  </tbody>\n",
       "</table>\n",
       "</div>"
      ],
      "text/plain": [
       "                           date_time  zone_id  banner_id  oaid_hash  \\\n",
       "14196412  2021-10-02 00:00:00.000000       14       1239    4676385   \n",
       "8706638   2021-10-02 00:00:00.000000      525        174    1718633   \n",
       "13000378  2021-10-02 00:00:00.000000       14        175    4672584   \n",
       "9767447   2021-10-02 00:00:00.000000        0         76    2550468   \n",
       "9054327   2021-10-02 00:00:00.000000       24        428     483280   \n",
       "\n",
       "          campaign_clicks  os_id  country_id  banner_id0  rate0        g0  \\\n",
       "14196412                0      1           0        1239  0.046  0.011367   \n",
       "8706638                 0      3           0         174  0.001  0.063288   \n",
       "13000378                0      2           9         175  0.007  0.042959   \n",
       "9767447                 0      1           3          76  0.008  0.051014   \n",
       "9054327                 0      1          10         428  0.001  0.157651   \n",
       "\n",
       "          coeff_sum0  banner_id1    rate1        g1  coeff_sum1  clicks  hour  \\\n",
       "14196412   -6.356145        1234  0.04600  0.011368   -6.355855       0     0   \n",
       "8706638    -3.107591         104  0.00100  0.041912   -3.091600       0     0   \n",
       "13000378   -3.023266         232  0.00700  0.042071   -3.060019       0     0   \n",
       "9767447    -4.665202          34  0.00873  0.014532   -4.988883       0     0   \n",
       "9054327    -3.672826         719  0.00100  0.167411   -3.676580       0     0   \n",
       "\n",
       "          weekday  \n",
       "14196412        5  \n",
       "8706638         5  \n",
       "13000378        5  \n",
       "9767447         5  \n",
       "9054327         5  "
      ]
     },
     "execution_count": 3,
     "metadata": {},
     "output_type": "execute_result"
    }
   ],
   "source": [
    "last_day_data.head()"
   ]
  },
  {
   "cell_type": "markdown",
   "metadata": {},
   "source": [
    "Генерируем новые тестовые файлы для `banner_id = banner_id0` и `banner_id = banner_id1`"
   ]
  },
  {
   "cell_type": "code",
   "execution_count": 4,
   "metadata": {},
   "outputs": [],
   "source": [
    "def create_field_string(data_row: pd.DataFrame, max_values: dict, features: list, field_no: int):\n",
    "    current_max = 0\n",
    "    field = []\n",
    "    for feature in features:\n",
    "        field.append(f\"{field_no}:{current_max + data_row[feature]}:{1}\")\n",
    "        current_max += max_values[feature] + 1\n",
    "    return (' ').join(field)\n",
    "        \n",
    "\n",
    "def generate_data_for_model(data: pd.DataFrame, max_values: dict, filename: str, banner_id='banner_id'):\n",
    "    '''\n",
    "    Генерируем данные с нужным айди баннера\n",
    "    '''\n",
    "    # устанавливаем нужный айди баннера\n",
    "    data['banner_id'] = data[banner_id]\n",
    "    \n",
    "    lines = []\n",
    "    for i in tqdm(data.index):\n",
    "        row = data.loc[i]\n",
    "        label = str(row['clicks'])\n",
    "        user_features = ['os_id', 'country_id']\n",
    "        user_field = create_field_string(row, max_values, user_features, 0)\n",
    "        ad_features = ['banner_id', 'zone_id', 'campaign_clicks']\n",
    "        ad_field = create_field_string(row, max_values, ad_features, 1)\n",
    "        time_features = ['hour', 'weekday']\n",
    "        time_field = create_field_string(row, max_values, time_features, 2)\n",
    "        lines.append(f\"{label} {user_field} {ad_field} {time_field}\")\n",
    "    with open(filename, 'w') as file:\n",
    "        file.write('\\n'.join(lines))"
   ]
  },
  {
   "cell_type": "code",
   "execution_count": 5,
   "metadata": {},
   "outputs": [
    {
     "data": {
      "application/vnd.jupyter.widget-view+json": {
       "model_id": "cf8f8fdde3294f5ca2d4142893180ce0",
       "version_major": 2,
       "version_minor": 0
      },
      "text/plain": [
       "HBox(children=(FloatProgress(value=0.0, max=1885670.0), HTML(value='')))"
      ]
     },
     "metadata": {},
     "output_type": "display_data"
    },
    {
     "name": "stdout",
     "output_type": "stream",
     "text": [
      "\n"
     ]
    },
    {
     "data": {
      "application/vnd.jupyter.widget-view+json": {
       "model_id": "edc5b1b07ea5421ba5ecfb3cbafbf1ec",
       "version_major": 2,
       "version_minor": 0
      },
      "text/plain": [
       "HBox(children=(FloatProgress(value=0.0, max=1885670.0), HTML(value='')))"
      ]
     },
     "metadata": {},
     "output_type": "display_data"
    },
    {
     "name": "stdout",
     "output_type": "stream",
     "text": [
      "\n"
     ]
    }
   ],
   "source": [
    "generate_data_for_model(last_day_data, max_values, 'test0.txt')\n",
    "generate_data_for_model(last_day_data, max_values, 'test1.txt', banner_id='banner_id1')"
   ]
  },
  {
   "cell_type": "markdown",
   "metadata": {},
   "source": [
    "Загружаем FFM модель из предыдущей лабораторной, генерируем ее предсказания и считаем новые суммы коэффициентов"
   ]
  },
  {
   "cell_type": "code",
   "execution_count": 6,
   "metadata": {},
   "outputs": [],
   "source": [
    "def compute_coeff_sum(test_file: str, model_file: str):\n",
    "    model = xl.create_ffm()\n",
    "    model.setTest(test_file)\n",
    "    model.setSigmoid()\n",
    "    model.predict(model_file, './predictions.txt')\n",
    "    with open(test_file) as file:\n",
    "        labels = [int(line[0]) for line in file.read().split('\\n')]\n",
    "    with open('./predictions.txt') as file:\n",
    "        pred = np.array([float(p) for p in file.read().strip().split('\\n')])\n",
    "    coeff_sum = logit(pred)\n",
    "    return coeff_sum, log_loss(labels, pred)"
   ]
  },
  {
   "cell_type": "code",
   "execution_count": 7,
   "metadata": {},
   "outputs": [
    {
     "name": "stdout",
     "output_type": "stream",
     "text": [
      "0.1486442615785983\n",
      "0.15162719879855321\n"
     ]
    }
   ],
   "source": [
    "coeff_sum0, loss0 = compute_coeff_sum('test0.txt', 'model.out')\n",
    "print(loss0)\n",
    "coeff_sum1, loss1 = compute_coeff_sum('test1.txt', 'model.out')\n",
    "print(loss1)"
   ]
  },
  {
   "cell_type": "markdown",
   "metadata": {},
   "source": [
    "Считаем $\\pi_0$ и $\\pi_1$"
   ]
  },
  {
   "cell_type": "code",
   "execution_count": 8,
   "metadata": {},
   "outputs": [],
   "source": [
    "def compute_pi0(data, seed=1337):\n",
    "    np.random.seed(seed)\n",
    "    sample0 = np.random.normal(data['coeff_sum0'], np.abs(data['g0']), (10 ** 3, len(data)))\n",
    "    sample1 = np.random.normal(data['coeff_sum1'], np.abs(data['g1']), (10 ** 3, len(data)))\n",
    "    return (sample0 > sample1).mean(axis=0)\n",
    "\n",
    "\n",
    "def compute_pi1(data, coeff_sum0, coeff_sum1, seed=1337):\n",
    "    np.random.seed(seed)\n",
    "    sample0 = np.random.normal(coeff_sum0, np.abs(data['g0']), (10 ** 3, len(data)))\n",
    "    sample1 = np.random.normal(coeff_sum1, np.abs(data['g1']), (10 ** 3, len(data)))\n",
    "    return (sample0 > sample1).mean(axis=0)"
   ]
  },
  {
   "cell_type": "code",
   "execution_count": 9,
   "metadata": {},
   "outputs": [],
   "source": [
    "pi0 = compute_pi0(last_day_data)\n",
    "pi1 = compute_pi1(last_day_data, coeff_sum0, coeff_sum1)"
   ]
  },
  {
   "cell_type": "markdown",
   "metadata": {},
   "source": [
    "CIPS для $\\lambda=10$ и CTR, чтобы сравнить полученное значение"
   ]
  },
  {
   "cell_type": "code",
   "execution_count": 12,
   "metadata": {},
   "outputs": [],
   "source": [
    "lmbda = 10.0\n",
    "ctr = last_day_data['clicks'].mean()\n",
    "cips = (last_day_data['clicks'] * np.minimum(pi1 / (pi0 + 1e-6), lmbda)).mean()"
   ]
  },
  {
   "cell_type": "code",
   "execution_count": 13,
   "metadata": {},
   "outputs": [
    {
     "data": {
      "text/plain": [
       "(0.036045013178339795, 0.07378550157132419)"
      ]
     },
     "execution_count": 13,
     "metadata": {},
     "output_type": "execute_result"
    }
   ],
   "source": [
    "ctr, cips"
   ]
  },
  {
   "cell_type": "markdown",
   "metadata": {},
   "source": [
    "CIPS получилось примерно в 2 раза больше CTR, что похоже на адекватное значение"
   ]
  }
 ],
 "metadata": {
  "kernelspec": {
   "display_name": "Python 3",
   "language": "python",
   "name": "python3"
  },
  "language_info": {
   "codemirror_mode": {
    "name": "ipython",
    "version": 3
   },
   "file_extension": ".py",
   "mimetype": "text/x-python",
   "name": "python",
   "nbconvert_exporter": "python",
   "pygments_lexer": "ipython3",
   "version": "3.8.2"
  }
 },
 "nbformat": 4,
 "nbformat_minor": 4
}
