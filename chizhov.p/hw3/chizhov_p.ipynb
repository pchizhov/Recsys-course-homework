{
 "cells": [
  {
   "cell_type": "markdown",
   "metadata": {},
   "source": [
    "Необходимые библиотеки"
   ]
  },
  {
   "cell_type": "code",
   "execution_count": 1,
   "metadata": {},
   "outputs": [],
   "source": [
    "import numpy as np\n",
    "import pandas as pd\n",
    "import xlearn as xl\n",
    "from tqdm.notebook import tqdm\n",
    "from sklearn.metrics import log_loss\n",
    "from sklearn.model_selection import TimeSeriesSplit"
   ]
  },
  {
   "cell_type": "markdown",
   "metadata": {},
   "source": [
    "Загрузка данных, убираю неиспользуемые колонки"
   ]
  },
  {
   "cell_type": "code",
   "execution_count": 2,
   "metadata": {},
   "outputs": [
    {
     "data": {
      "text/html": [
       "<div>\n",
       "<style scoped>\n",
       "    .dataframe tbody tr th:only-of-type {\n",
       "        vertical-align: middle;\n",
       "    }\n",
       "\n",
       "    .dataframe tbody tr th {\n",
       "        vertical-align: top;\n",
       "    }\n",
       "\n",
       "    .dataframe thead th {\n",
       "        text-align: right;\n",
       "    }\n",
       "</style>\n",
       "<table border=\"1\" class=\"dataframe\">\n",
       "  <thead>\n",
       "    <tr style=\"text-align: right;\">\n",
       "      <th></th>\n",
       "      <th>date_time</th>\n",
       "      <th>zone_id</th>\n",
       "      <th>banner_id</th>\n",
       "      <th>oaid_hash</th>\n",
       "      <th>campaign_clicks</th>\n",
       "      <th>os_id</th>\n",
       "      <th>country_id</th>\n",
       "      <th>impressions</th>\n",
       "      <th>clicks</th>\n",
       "    </tr>\n",
       "  </thead>\n",
       "  <tbody>\n",
       "    <tr>\n",
       "      <th>0</th>\n",
       "      <td>2021-09-27 00:01:30.000000</td>\n",
       "      <td>0</td>\n",
       "      <td>0</td>\n",
       "      <td>5664530014561852622</td>\n",
       "      <td>0</td>\n",
       "      <td>0</td>\n",
       "      <td>0</td>\n",
       "      <td>1</td>\n",
       "      <td>1</td>\n",
       "    </tr>\n",
       "    <tr>\n",
       "      <th>1</th>\n",
       "      <td>2021-09-26 22:54:49.000000</td>\n",
       "      <td>1</td>\n",
       "      <td>1</td>\n",
       "      <td>5186611064559013950</td>\n",
       "      <td>0</td>\n",
       "      <td>0</td>\n",
       "      <td>1</td>\n",
       "      <td>1</td>\n",
       "      <td>1</td>\n",
       "    </tr>\n",
       "    <tr>\n",
       "      <th>2</th>\n",
       "      <td>2021-09-26 23:57:20.000000</td>\n",
       "      <td>2</td>\n",
       "      <td>2</td>\n",
       "      <td>2215519569292448030</td>\n",
       "      <td>3</td>\n",
       "      <td>0</td>\n",
       "      <td>0</td>\n",
       "      <td>1</td>\n",
       "      <td>1</td>\n",
       "    </tr>\n",
       "    <tr>\n",
       "      <th>3</th>\n",
       "      <td>2021-09-27 00:04:30.000000</td>\n",
       "      <td>3</td>\n",
       "      <td>3</td>\n",
       "      <td>6262169206735077204</td>\n",
       "      <td>0</td>\n",
       "      <td>1</td>\n",
       "      <td>1</td>\n",
       "      <td>1</td>\n",
       "      <td>1</td>\n",
       "    </tr>\n",
       "    <tr>\n",
       "      <th>4</th>\n",
       "      <td>2021-09-27 00:06:21.000000</td>\n",
       "      <td>4</td>\n",
       "      <td>4</td>\n",
       "      <td>4778985830203613115</td>\n",
       "      <td>0</td>\n",
       "      <td>1</td>\n",
       "      <td>0</td>\n",
       "      <td>1</td>\n",
       "      <td>1</td>\n",
       "    </tr>\n",
       "  </tbody>\n",
       "</table>\n",
       "</div>"
      ],
      "text/plain": [
       "                    date_time  zone_id  banner_id            oaid_hash  \\\n",
       "0  2021-09-27 00:01:30.000000        0          0  5664530014561852622   \n",
       "1  2021-09-26 22:54:49.000000        1          1  5186611064559013950   \n",
       "2  2021-09-26 23:57:20.000000        2          2  2215519569292448030   \n",
       "3  2021-09-27 00:04:30.000000        3          3  6262169206735077204   \n",
       "4  2021-09-27 00:06:21.000000        4          4  4778985830203613115   \n",
       "\n",
       "   campaign_clicks  os_id  country_id  impressions  clicks  \n",
       "0                0      0           0            1       1  \n",
       "1                0      0           1            1       1  \n",
       "2                3      0           0            1       1  \n",
       "3                0      1           1            1       1  \n",
       "4                0      1           0            1       1  "
      ]
     },
     "execution_count": 2,
     "metadata": {},
     "output_type": "execute_result"
    }
   ],
   "source": [
    "data = pd.read_csv('../../data/data.csv')\n",
    "unused = 'banner_id0, banner_id1, rate0, rate1, g0, g1, coeff_sum0, coeff_sum1'.split(', ')\n",
    "data = data.drop(columns=unused)\n",
    "data.head()"
   ]
  },
  {
   "cell_type": "markdown",
   "metadata": {},
   "source": [
    "Выбираю последний день датасета и разделяю по нему"
   ]
  },
  {
   "cell_type": "code",
   "execution_count": 3,
   "metadata": {},
   "outputs": [
    {
     "data": {
      "text/plain": [
       "'2021-10-02 23:59:59.000000'"
      ]
     },
     "execution_count": 3,
     "metadata": {},
     "output_type": "execute_result"
    }
   ],
   "source": [
    "data['date_time'].max()"
   ]
  },
  {
   "cell_type": "code",
   "execution_count": 4,
   "metadata": {},
   "outputs": [],
   "source": [
    "last_day = '2021-10-02'\n",
    "data = data.sort_values(by='date_time')\n",
    "splitting_mask = data['date_time'].str.startswith(last_day)"
   ]
  },
  {
   "cell_type": "markdown",
   "metadata": {},
   "source": [
    "Feature engineering почти такой же, как в первой работе, удаляем impressions, которые всегда 1, выделяем из даты час и день недели."
   ]
  },
  {
   "cell_type": "code",
   "execution_count": 14,
   "metadata": {},
   "outputs": [],
   "source": [
    "def feature_engineering(data: pd.DataFrame) -> pd.DataFrame:\n",
    "    # удаляем столбец impressions\n",
    "    data = data.drop(columns=['impressions'])\n",
    "    \n",
    "    # выделяем из даты часы\n",
    "    dates = pd.to_datetime(data['date_time'])\n",
    "    data['hour'] = dates.dt.hour\n",
    "    data['weekday'] = dates.dt.dayofweek\n",
    "    data = data.drop(columns=['date_time'])\n",
    "    \n",
    "    # категоризуем oaid_hash, иначе xlearn умирает от слишком большого числа фич\n",
    "    data['oaid_hash'] = data['oaid_hash'].astype('category').cat.codes\n",
    "\n",
    "    return data"
   ]
  },
  {
   "cell_type": "markdown",
   "metadata": {},
   "source": [
    "Запуск feature engineering и разделение датасета"
   ]
  },
  {
   "cell_type": "code",
   "execution_count": 15,
   "metadata": {},
   "outputs": [],
   "source": [
    "data_fe = feature_engineering(data)\n",
    "data_train, data_test = data_fe[~splitting_mask], data_fe[splitting_mask]"
   ]
  },
  {
   "cell_type": "code",
   "execution_count": 16,
   "metadata": {},
   "outputs": [
    {
     "data": {
      "text/html": [
       "<div>\n",
       "<style scoped>\n",
       "    .dataframe tbody tr th:only-of-type {\n",
       "        vertical-align: middle;\n",
       "    }\n",
       "\n",
       "    .dataframe tbody tr th {\n",
       "        vertical-align: top;\n",
       "    }\n",
       "\n",
       "    .dataframe thead th {\n",
       "        text-align: right;\n",
       "    }\n",
       "</style>\n",
       "<table border=\"1\" class=\"dataframe\">\n",
       "  <thead>\n",
       "    <tr style=\"text-align: right;\">\n",
       "      <th></th>\n",
       "      <th>zone_id</th>\n",
       "      <th>banner_id</th>\n",
       "      <th>oaid_hash</th>\n",
       "      <th>campaign_clicks</th>\n",
       "      <th>os_id</th>\n",
       "      <th>country_id</th>\n",
       "      <th>clicks</th>\n",
       "      <th>hour</th>\n",
       "      <th>weekday</th>\n",
       "    </tr>\n",
       "  </thead>\n",
       "  <tbody>\n",
       "    <tr>\n",
       "      <th>1390198</th>\n",
       "      <td>30</td>\n",
       "      <td>596</td>\n",
       "      <td>3693539</td>\n",
       "      <td>0</td>\n",
       "      <td>0</td>\n",
       "      <td>7</td>\n",
       "      <td>0</td>\n",
       "      <td>0</td>\n",
       "      <td>2</td>\n",
       "    </tr>\n",
       "    <tr>\n",
       "      <th>5041415</th>\n",
       "      <td>41</td>\n",
       "      <td>29</td>\n",
       "      <td>1293475</td>\n",
       "      <td>1</td>\n",
       "      <td>3</td>\n",
       "      <td>0</td>\n",
       "      <td>0</td>\n",
       "      <td>0</td>\n",
       "      <td>6</td>\n",
       "    </tr>\n",
       "    <tr>\n",
       "      <th>1442602</th>\n",
       "      <td>1</td>\n",
       "      <td>188</td>\n",
       "      <td>5233288</td>\n",
       "      <td>2</td>\n",
       "      <td>2</td>\n",
       "      <td>15</td>\n",
       "      <td>0</td>\n",
       "      <td>0</td>\n",
       "      <td>6</td>\n",
       "    </tr>\n",
       "    <tr>\n",
       "      <th>7232498</th>\n",
       "      <td>17</td>\n",
       "      <td>52</td>\n",
       "      <td>1292247</td>\n",
       "      <td>2</td>\n",
       "      <td>2</td>\n",
       "      <td>5</td>\n",
       "      <td>0</td>\n",
       "      <td>0</td>\n",
       "      <td>6</td>\n",
       "    </tr>\n",
       "    <tr>\n",
       "      <th>14938691</th>\n",
       "      <td>47</td>\n",
       "      <td>73</td>\n",
       "      <td>2947801</td>\n",
       "      <td>1</td>\n",
       "      <td>4</td>\n",
       "      <td>13</td>\n",
       "      <td>0</td>\n",
       "      <td>0</td>\n",
       "      <td>6</td>\n",
       "    </tr>\n",
       "  </tbody>\n",
       "</table>\n",
       "</div>"
      ],
      "text/plain": [
       "          zone_id  banner_id  oaid_hash  campaign_clicks  os_id  country_id  \\\n",
       "1390198        30        596    3693539                0      0           7   \n",
       "5041415        41         29    1293475                1      3           0   \n",
       "1442602         1        188    5233288                2      2          15   \n",
       "7232498        17         52    1292247                2      2           5   \n",
       "14938691       47         73    2947801                1      4          13   \n",
       "\n",
       "          clicks  hour  weekday  \n",
       "1390198        0     0        2  \n",
       "5041415        0     0        6  \n",
       "1442602        0     0        6  \n",
       "7232498        0     0        6  \n",
       "14938691       0     0        6  "
      ]
     },
     "execution_count": 16,
     "metadata": {},
     "output_type": "execute_result"
    }
   ],
   "source": [
    "data_fe.head()"
   ]
  },
  {
   "cell_type": "markdown",
   "metadata": {},
   "source": [
    "Выбираем для каждого столбца наибольшие значения"
   ]
  },
  {
   "cell_type": "code",
   "execution_count": 17,
   "metadata": {},
   "outputs": [],
   "source": [
    "max_values = dict()\n",
    "for col in data_fe.columns:\n",
    "    max_values[col] = data_fe[col].max()"
   ]
  },
  {
   "cell_type": "markdown",
   "metadata": {},
   "source": [
    "Составляем файлы для тренировки FFM"
   ]
  },
  {
   "cell_type": "code",
   "execution_count": 18,
   "metadata": {},
   "outputs": [],
   "source": [
    "def create_field_string(data_row: pd.DataFrame, max_values: dict, features: list, field_no: int):\n",
    "    current_max = 0\n",
    "    field = []\n",
    "    for feature in features:\n",
    "        field.append(f\"{field_no}:{current_max + data_row[feature]}:{1}\")\n",
    "        current_max += max_values[feature] + 1\n",
    "    return (' ').join(field)\n",
    "        \n",
    "\n",
    "def create_libffm_file(data: pd.DataFrame, max_values: dict, filename: str):\n",
    "    lines = []\n",
    "    for i in tqdm(data.index):\n",
    "        row = data.loc[i]\n",
    "        label = str(row['clicks'])\n",
    "        user_features = ['os_id', 'country_id']\n",
    "        user_field = create_field_string(row, max_values, user_features, 0)\n",
    "        ad_features = ['banner_id', 'zone_id', 'campaign_clicks']\n",
    "        ad_field = create_field_string(row, max_values, ad_features, 1)\n",
    "        time_features = ['hour', 'weekday']\n",
    "        time_field = create_field_string(row, max_values, time_features, 2)\n",
    "        lines.append(f\"{label} {user_field} {ad_field} {time_field}\")\n",
    "    with open(filename, 'w') as file:\n",
    "        file.write('\\n'.join(lines))"
   ]
  },
  {
   "cell_type": "code",
   "execution_count": 19,
   "metadata": {},
   "outputs": [
    {
     "data": {
      "application/vnd.jupyter.widget-view+json": {
       "model_id": "a8c415672a2945dab2c2b0ed49c64c49",
       "version_major": 2,
       "version_minor": 0
      },
      "text/plain": [
       "HBox(children=(FloatProgress(value=0.0, max=13692494.0), HTML(value='')))"
      ]
     },
     "metadata": {},
     "output_type": "display_data"
    },
    {
     "name": "stdout",
     "output_type": "stream",
     "text": [
      "\n"
     ]
    },
    {
     "data": {
      "application/vnd.jupyter.widget-view+json": {
       "model_id": "38febbf5839440fea45fd4901f91b0f4",
       "version_major": 2,
       "version_minor": 0
      },
      "text/plain": [
       "HBox(children=(FloatProgress(value=0.0, max=2128978.0), HTML(value='')))"
      ]
     },
     "metadata": {},
     "output_type": "display_data"
    },
    {
     "name": "stdout",
     "output_type": "stream",
     "text": [
      "\n"
     ]
    }
   ],
   "source": [
    "train_file, test_file = 'train.txt', 'test.txt'\n",
    "create_libffm_file(data_train, max_values, train_file)\n",
    "create_libffm_file(data_test, max_values, test_file)"
   ]
  },
  {
   "cell_type": "markdown",
   "metadata": {},
   "source": [
    "Теперь файлы собраны, строки в них находятся в порядке времени, поэтому валидационные фолды можно будет собирать сразу из них"
   ]
  },
  {
   "cell_type": "code",
   "execution_count": 25,
   "metadata": {},
   "outputs": [],
   "source": [
    "def create_model(train_file: str, model_file: str, k: int):\n",
    "    \"\"\"\n",
    "    Создаёт ffm модель для заданного k\n",
    "    \"\"\"\n",
    "    ffm = xl.create_ffm()\n",
    "    ffm.setTrain(train_file)\n",
    "    param = {'task': 'binary', 'lr': 0.02, 'lambda': 0.02, 'k': k, 'metric': 'f1'}\n",
    "    ffm.fit(param, model_path=model_file)\n",
    "    return ffm\n",
    "\n",
    "\n",
    "def evaluate_model(model, model_file, test_file):\n",
    "    \"\"\"\n",
    "    Вычисляет log loss для модели на заданном тесте\n",
    "    \"\"\"\n",
    "    model.setTest(test_file)\n",
    "    model.setSigmoid()\n",
    "    model.predict(model_file, './predictions.txt')\n",
    "    with open(test_file) as file:\n",
    "        labels = [int(line[0]) for line in file.read().split('\\n')]\n",
    "    with open('./predictions.txt') as file:\n",
    "        pred = [float(p) for p in file.read().strip().split('\\n')]\n",
    "    return log_loss(labels, pred)\n",
    "\n",
    "\n",
    "def baseline_score(test_file: str) -> float:\n",
    "    \"\"\"\n",
    "    Log loss предсказания средним\n",
    "    \"\"\"\n",
    "    with open(test_file) as file:\n",
    "        labels = [int(line[0]) for line in file.read().split('\\n')]\n",
    "    return log_loss(labels, [np.mean(labels)] * len(labels))\n",
    "\n",
    "\n",
    "def create_folds(train_file: str):\n",
    "    \"\"\"\n",
    "    Создаёт фолды для валидации по времени\n",
    "    \"\"\"\n",
    "    time_series = TimeSeriesSplit(n_splits=3)\n",
    "    folds = []\n",
    "    with open(train_file) as file:\n",
    "        data = np.array(file.read().split('\\n'))\n",
    "        for i, (train_index, test_index) in enumerate(time_series.split(data)):\n",
    "            with open(f'./val_train_{i}.txt', 'w') as f:\n",
    "                f.write('\\n'.join(data[train_index]))\n",
    "            with open(f'./val_test_{i}.txt', 'w') as f:\n",
    "                f.write('\\n'.join(data[test_index]))\n",
    "            folds.append((f'./val_train_{i}.txt', f'./val_test_{i}.txt'))\n",
    "    return folds\n",
    "\n",
    "\n",
    "def cv(folds):\n",
    "    \"\"\"\n",
    "    Валидация по времени из собранных фолдов\n",
    "    \"\"\"\n",
    "    best_loss, best_k = np.infty, None\n",
    "    for k in [2, 5, 10, 15]:\n",
    "        scores = []\n",
    "        for train, test in folds:\n",
    "            model = create_model(train, './val_model.out', k)\n",
    "            scores.append(evaluate_model(model, './val_model.out', test))\n",
    "        loss = np.mean(scores)\n",
    "        if loss < best_loss:\n",
    "            best_loss = loss\n",
    "            best_k = k\n",
    "    return create_model('./train.txt', './model.out', best_k), best_k"
   ]
  },
  {
   "cell_type": "markdown",
   "metadata": {},
   "source": [
    "Посчитаем метрику для бейзлайна"
   ]
  },
  {
   "cell_type": "code",
   "execution_count": 21,
   "metadata": {},
   "outputs": [
    {
     "data": {
      "text/plain": [
       "0.15303289904918682"
      ]
     },
     "execution_count": 21,
     "metadata": {},
     "output_type": "execute_result"
    }
   ],
   "source": [
    "baseline_score('./test.txt')"
   ]
  },
  {
   "cell_type": "markdown",
   "metadata": {},
   "source": [
    "Проведём валидацию по времени и выберем лучшее k (из рассмотренных)"
   ]
  },
  {
   "cell_type": "code",
   "execution_count": 22,
   "metadata": {},
   "outputs": [],
   "source": [
    "folds = create_folds('./train.txt')"
   ]
  },
  {
   "cell_type": "code",
   "execution_count": 23,
   "metadata": {},
   "outputs": [
    {
     "data": {
      "text/plain": [
       "15"
      ]
     },
     "execution_count": 23,
     "metadata": {},
     "output_type": "execute_result"
    }
   ],
   "source": [
    "best_model, best_k = cv(folds)\n",
    "best_k"
   ]
  },
  {
   "cell_type": "code",
   "execution_count": 26,
   "metadata": {},
   "outputs": [
    {
     "data": {
      "text/plain": [
       "0.1467454444693803"
      ]
     },
     "execution_count": 26,
     "metadata": {},
     "output_type": "execute_result"
    }
   ],
   "source": [
    "evaluate_model(best_model, './model.out', './test.txt')"
   ]
  },
  {
   "cell_type": "markdown",
   "metadata": {},
   "source": [
    "Лучшим k оказалось 15, результат модели лучше бейзлайна и сопоставим с результатом первой лабораторной работы"
   ]
  }
 ],
 "metadata": {
  "kernelspec": {
   "display_name": "Python 3",
   "language": "python",
   "name": "python3"
  },
  "language_info": {
   "codemirror_mode": {
    "name": "ipython",
    "version": 3
   },
   "file_extension": ".py",
   "mimetype": "text/x-python",
   "name": "python",
   "nbconvert_exporter": "python",
   "pygments_lexer": "ipython3",
   "version": "3.8.2"
  }
 },
 "nbformat": 4,
 "nbformat_minor": 4
}
