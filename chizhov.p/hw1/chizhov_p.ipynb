{
 "cells": [
  {
   "cell_type": "code",
   "execution_count": 1,
   "metadata": {},
   "outputs": [],
   "source": [
    "import numpy as np\n",
    "import pandas as pd\n",
    "import seaborn as sns\n",
    "from sklearn.linear_model import LogisticRegression\n",
    "from sklearn.model_selection import TimeSeriesSplit\n",
    "from sklearn.metrics import log_loss"
   ]
  },
  {
   "cell_type": "code",
   "execution_count": 2,
   "metadata": {
    "pycharm": {
     "name": "#%%\n"
    }
   },
   "outputs": [
    {
     "data": {
      "text/html": [
       "<div>\n",
       "<style scoped>\n",
       "    .dataframe tbody tr th:only-of-type {\n",
       "        vertical-align: middle;\n",
       "    }\n",
       "\n",
       "    .dataframe tbody tr th {\n",
       "        vertical-align: top;\n",
       "    }\n",
       "\n",
       "    .dataframe thead th {\n",
       "        text-align: right;\n",
       "    }\n",
       "</style>\n",
       "<table border=\"1\" class=\"dataframe\">\n",
       "  <thead>\n",
       "    <tr style=\"text-align: right;\">\n",
       "      <th></th>\n",
       "      <th>date_time</th>\n",
       "      <th>zone_id</th>\n",
       "      <th>banner_id</th>\n",
       "      <th>campaign_clicks</th>\n",
       "      <th>os_id</th>\n",
       "      <th>country_id</th>\n",
       "      <th>impressions</th>\n",
       "      <th>clicks</th>\n",
       "    </tr>\n",
       "  </thead>\n",
       "  <tbody>\n",
       "    <tr>\n",
       "      <th>0</th>\n",
       "      <td>2021-09-27 00:01:30.000000</td>\n",
       "      <td>0</td>\n",
       "      <td>0</td>\n",
       "      <td>0</td>\n",
       "      <td>0</td>\n",
       "      <td>0</td>\n",
       "      <td>1</td>\n",
       "      <td>1</td>\n",
       "    </tr>\n",
       "    <tr>\n",
       "      <th>1</th>\n",
       "      <td>2021-09-26 22:54:49.000000</td>\n",
       "      <td>1</td>\n",
       "      <td>1</td>\n",
       "      <td>0</td>\n",
       "      <td>0</td>\n",
       "      <td>1</td>\n",
       "      <td>1</td>\n",
       "      <td>1</td>\n",
       "    </tr>\n",
       "    <tr>\n",
       "      <th>2</th>\n",
       "      <td>2021-09-26 23:57:20.000000</td>\n",
       "      <td>2</td>\n",
       "      <td>2</td>\n",
       "      <td>3</td>\n",
       "      <td>0</td>\n",
       "      <td>0</td>\n",
       "      <td>1</td>\n",
       "      <td>1</td>\n",
       "    </tr>\n",
       "    <tr>\n",
       "      <th>3</th>\n",
       "      <td>2021-09-27 00:04:30.000000</td>\n",
       "      <td>3</td>\n",
       "      <td>3</td>\n",
       "      <td>0</td>\n",
       "      <td>1</td>\n",
       "      <td>1</td>\n",
       "      <td>1</td>\n",
       "      <td>1</td>\n",
       "    </tr>\n",
       "    <tr>\n",
       "      <th>4</th>\n",
       "      <td>2021-09-27 00:06:21.000000</td>\n",
       "      <td>4</td>\n",
       "      <td>4</td>\n",
       "      <td>0</td>\n",
       "      <td>1</td>\n",
       "      <td>0</td>\n",
       "      <td>1</td>\n",
       "      <td>1</td>\n",
       "    </tr>\n",
       "  </tbody>\n",
       "</table>\n",
       "</div>"
      ],
      "text/plain": [
       "                    date_time  zone_id  banner_id  campaign_clicks  os_id  \\\n",
       "0  2021-09-27 00:01:30.000000        0          0                0      0   \n",
       "1  2021-09-26 22:54:49.000000        1          1                0      0   \n",
       "2  2021-09-26 23:57:20.000000        2          2                3      0   \n",
       "3  2021-09-27 00:04:30.000000        3          3                0      1   \n",
       "4  2021-09-27 00:06:21.000000        4          4                0      1   \n",
       "\n",
       "   country_id  impressions  clicks  \n",
       "0           0            1       1  \n",
       "1           1            1       1  \n",
       "2           0            1       1  \n",
       "3           1            1       1  \n",
       "4           0            1       1  "
      ]
     },
     "execution_count": 2,
     "metadata": {},
     "output_type": "execute_result"
    }
   ],
   "source": [
    "data = pd.read_csv('../data/data.csv')\n",
    "unused = 'oaid_hash, banner_id0, banner_id1, rate0, rate1, g0, g1, coeff_sum0, coeff_sum1'.split(', ')\n",
    "data = data.drop(columns=unused)\n",
    "data.head()"
   ]
  },
  {
   "cell_type": "markdown",
   "metadata": {},
   "source": [
    "Определим последний день и разобьем данные на тренировочные и тестовые"
   ]
  },
  {
   "cell_type": "code",
   "execution_count": 3,
   "metadata": {},
   "outputs": [
    {
     "data": {
      "text/plain": [
       "'2021-10-02 23:59:59.000000'"
      ]
     },
     "execution_count": 3,
     "metadata": {},
     "output_type": "execute_result"
    }
   ],
   "source": [
    "data['date_time'].max()"
   ]
  },
  {
   "cell_type": "code",
   "execution_count": 4,
   "metadata": {},
   "outputs": [],
   "source": [
    "last_day = '2021-10-02'\n",
    "data = data.sort_values(by='date_time')\n",
    "splitting_mask = data['date_time'].str.startswith(last_day)"
   ]
  },
  {
   "cell_type": "markdown",
   "metadata": {},
   "source": [
    "Посмотрим на количества значений в столбцах"
   ]
  },
  {
   "cell_type": "code",
   "execution_count": 5,
   "metadata": {},
   "outputs": [
    {
     "name": "stdout",
     "output_type": "stream",
     "text": [
      "2021-09-29 19:14:40.000000    140\n",
      "2021-09-26 17:08:47.000000    134\n",
      "2021-09-29 19:11:38.000000    131\n",
      "2021-09-29 19:13:10.000000    130\n",
      "2021-09-29 19:14:01.000000    129\n",
      "                             ... \n",
      "2021-10-01 17:12:19.000000      1\n",
      "2021-10-01 17:15:52.000000      1\n",
      "2021-10-01 17:16:01.000000      1\n",
      "2021-10-01 17:16:41.000000      1\n",
      "2021-10-01 17:18:10.000000      1\n",
      "Name: date_time, Length: 604712, dtype: int64\n",
      "17      2280422\n",
      "14      1638642\n",
      "12       736352\n",
      "0        708379\n",
      "19       693292\n",
      "         ...   \n",
      "2843          1\n",
      "2845          1\n",
      "2847          1\n",
      "2848          1\n",
      "3442          1\n",
      "Name: zone_id, Length: 3444, dtype: int64\n",
      "22      613367\n",
      "361     387563\n",
      "3       286999\n",
      "18      262946\n",
      "21      246378\n",
      "         ...  \n",
      "1119         1\n",
      "1120         1\n",
      "1358         1\n",
      "1355         1\n",
      "1632         1\n",
      "Name: banner_id, Length: 1633, dtype: int64\n",
      "0      13682452\n",
      "1       1236822\n",
      "2        342937\n",
      "3        173528\n",
      "4        100293\n",
      "         ...   \n",
      "798           1\n",
      "801           1\n",
      "802           1\n",
      "804           1\n",
      "829           1\n",
      "Name: campaign_clicks, Length: 822, dtype: int64\n",
      "2     4589979\n",
      "0     3856798\n",
      "1     3178693\n",
      "4     3012541\n",
      "3      759767\n",
      "6      310346\n",
      "5      111946\n",
      "8        1273\n",
      "7          99\n",
      "9          25\n",
      "10          5\n",
      "Name: os_id, dtype: int64\n",
      "0     4956393\n",
      "5     1910054\n",
      "6     1582705\n",
      "7     1525569\n",
      "1     1346321\n",
      "3     1337392\n",
      "15     603301\n",
      "12     478038\n",
      "9      439004\n",
      "4      388801\n",
      "10     356490\n",
      "11     212245\n",
      "8      210211\n",
      "13     190855\n",
      "14     138385\n",
      "16      79166\n",
      "2       66542\n",
      "Name: country_id, dtype: int64\n",
      "1    15821472\n",
      "Name: impressions, dtype: int64\n",
      "0    15399223\n",
      "1      422249\n",
      "Name: clicks, dtype: int64\n"
     ]
    }
   ],
   "source": [
    "for col in data.columns:\n",
    "    print(data[col].value_counts())"
   ]
  },
  {
   "cell_type": "markdown",
   "metadata": {},
   "source": [
    "`impressions` всегда равно 1, что логично, поэтому эту фичу не будем использовать"
   ]
  },
  {
   "cell_type": "code",
   "execution_count": 6,
   "metadata": {},
   "outputs": [
    {
     "data": {
      "image/png": "[encoded data removed]",
      "text/plain": [
       "<Figure size 432x288 with 1 Axes>"
      ]
     },
     "metadata": {
      "needs_background": "light"
     },
     "output_type": "display_data"
    }
   ],
   "source": [
    "sns.boxplot(data=data['campaign_clicks']);"
   ]
  },
  {
   "cell_type": "markdown",
   "metadata": {},
   "source": [
    "У `campaign_clicks` очень сильный скос, поэтому в дальнейшем все значения, большие 9, объединим в один класс"
   ]
  },
  {
   "cell_type": "code",
   "execution_count": 7,
   "metadata": {
    "pycharm": {
     "name": "#%%\n"
    }
   },
   "outputs": [],
   "source": [
    "def feature_engineering(data: pd.DataFrame) -> pd.DataFrame:\n",
    "    # удаляем столбец impressions\n",
    "    data = data.drop(columns=['impressions'])\n",
    "    \n",
    "    # выделяем из даты часы\n",
    "    dates = pd.to_datetime(data['date_time'])\n",
    "    data['hour'] = dates.dt.hour\n",
    "    data = data.drop(columns=['date_time'])\n",
    "    \n",
    "    zone = data['zone_id'].value_counts()\n",
    "    zone_rare = zone[zone == 1].index\n",
    "    data[[v in zone_rare for v in data['banner_id']]] = -1\n",
    "\n",
    "    banner = data['banner_id'].value_counts()\n",
    "    banner_rare = banner[banner == 1].index\n",
    "    data[[v in banner_rare for v in data['banner_id']]] = -1\n",
    "    \n",
    "    # интеракции\n",
    "#     for banner in set(data['banner_id']):\n",
    "#         for country in set(data['country_id']):\n",
    "#             data[ f'{banner}x{country}'] = ((data['banner_id'] == banner) & (data['country_id'] == country)).astype(int)\n",
    "    \n",
    "    # one-hot\n",
    "    data = data.join(pd.get_dummies(data['hour'], prefix='hour'))\n",
    "    data = data.join(pd.get_dummies(data['os_id'], prefix='os_id'))\n",
    "    data = data.join(pd.get_dummies(data['country_id'], prefix='country_id'))\n",
    "#     data = data.join(pd.get_dummies(data['zone_id'], prefix='zone_id'))\n",
    "#     data = data.join(pd.get_dummies(data['banner_id'], prefix='banner_id'))\n",
    "    \n",
    "    # все очень большие значение положим в один класс, так как их мало\n",
    "    data['campaign_clicks'][data['campaign_clicks'] > 9] = 10\n",
    "    data = data.join(pd.get_dummies(data['campaign_clicks'], prefix='campaign_clicks'))\n",
    "    \n",
    "    # удаление после one-hot\n",
    "#     data = data.drop(columns=['hour', 'os_id', 'country_id', 'campaign_clicks', 'zone_id', 'banner_id'])\n",
    "    data = data.drop(columns=['hour', 'os_id', 'country_id', 'campaign_clicks'])\n",
    "    return data"
   ]
  },
  {
   "cell_type": "code",
   "execution_count": 8,
   "metadata": {
    "pycharm": {
     "name": "#%%\n"
    }
   },
   "outputs": [],
   "source": [
    "def create_model(data: pd.DataFrame, C: float):\n",
    "    X, y = data.drop(columns=['clicks']), data['clicks']\n",
    "    model = LogisticRegression(solver='liblinear', C=C)\n",
    "    model.fit(X, y)\n",
    "    return model\n",
    "\n",
    "\n",
    "def evaluate_model(data: pd.DataFrame, model):\n",
    "    X, y = data.drop(columns=['clicks']), data['clicks']\n",
    "    return log_loss(y, model.predict_proba(X))"
   ]
  },
  {
   "cell_type": "code",
   "execution_count": 9,
   "metadata": {
    "pycharm": {
     "name": "#%%\n"
    }
   },
   "outputs": [],
   "source": [
    "def cv(data: pd.DataFrame):\n",
    "    split = TimeSeriesSplit(n_splits=4)\n",
    "    best_loss, best_C = np.infty, None\n",
    "    for C in [1.0, 10.0, 20.0]:\n",
    "        scores = []\n",
    "        for train_index, test_index in split.split(data):\n",
    "            model = create_model(data.iloc[train_index], C)\n",
    "            scores.append(evaluate_model(data.iloc[test_index], model))\n",
    "        loss = np.mean(scores)\n",
    "        if loss < best_loss:\n",
    "            best_loss = loss\n",
    "            best_C = C\n",
    "    return create_model(data, C)"
   ]
  },
  {
   "cell_type": "markdown",
   "metadata": {},
   "source": [
    "Запустим построение фич на всех данных"
   ]
  },
  {
   "cell_type": "code",
   "execution_count": 10,
   "metadata": {},
   "outputs": [
    {
     "name": "stderr",
     "output_type": "stream",
     "text": [
      "<ipython-input-7-84a78e97562c>:31: SettingWithCopyWarning: \n",
      "A value is trying to be set on a copy of a slice from a DataFrame\n",
      "\n",
      "See the caveats in the documentation: https://pandas.pydata.org/pandas-docs/stable/user_guide/indexing.html#returning-a-view-versus-a-copy\n",
      "  data['campaign_clicks'][data['campaign_clicks'] > 9] = 10\n"
     ]
    }
   ],
   "source": [
    "data_fe = feature_engineering(data)\n",
    "data_train, data_test = data_fe[~splitting_mask], data_fe[splitting_mask]"
   ]
  },
  {
   "cell_type": "markdown",
   "metadata": {},
   "source": [
    "Подберем модель на TimeSeriesSplit кросс-валидации"
   ]
  },
  {
   "cell_type": "code",
   "execution_count": 11,
   "metadata": {},
   "outputs": [
    {
     "data": {
      "text/plain": [
       "0.14407991004952259"
      ]
     },
     "execution_count": 11,
     "metadata": {},
     "output_type": "execute_result"
    }
   ],
   "source": [
    "model = cv(data_train)\n",
    "evaluate_model(data_test, model)"
   ]
  }
 ],
 "metadata": {
  "kernelspec": {
   "display_name": "Python 3",
   "language": "python",
   "name": "python3"
  },
  "language_info": {
   "codemirror_mode": {
    "name": "ipython",
    "version": 3
   },
   "file_extension": ".py",
   "mimetype": "text/x-python",
   "name": "python",
   "nbconvert_exporter": "python",
   "pygments_lexer": "ipython3",
   "version": "3.8.2"
  }
 },
 "nbformat": 4,
 "nbformat_minor": 1
}
